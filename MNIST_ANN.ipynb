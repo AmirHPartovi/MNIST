{
  "cells": [
    {
      "cell_type": "markdown",
      "metadata": {
        "id": "view-in-github",
        "colab_type": "text"
      },
      "source": [
        "<a href=\"https://colab.research.google.com/github/AmirHPartovi/MNIST/blob/master/MNIST_ANN.ipynb\" target=\"_parent\"><img src=\"https://colab.research.google.com/assets/colab-badge.svg\" alt=\"Open In Colab\"/></a>"
      ]
    },
    {
      "cell_type": "markdown",
      "source": [
        "#Create Model with ANN for MNIST"
      ],
      "metadata": {
        "id": "0M9IjySmI5yY"
      }
    },
    {
      "cell_type": "markdown",
      "source": [
        "# Import Tensorflow and keras models, layers, dataset"
      ],
      "metadata": {
        "id": "wjTX5nzKNFhE"
      }
    },
    {
      "cell_type": "code",
      "source": [
        "import tensorflow as tf\n",
        "print(tf.__version__)\n",
        "import tensorflow.keras as keras\n",
        "import keras.models as models\n",
        "import keras.layers as layers\n",
        "import keras.datasets as datasets"
      ],
      "metadata": {
        "colab": {
          "base_uri": "https://localhost:8080/"
        },
        "id": "DjGmmNwrJA_g",
        "outputId": "782bda3a-8095-458f-eb53-efbb2b4bb0e6"
      },
      "execution_count": 21,
      "outputs": [
        {
          "output_type": "stream",
          "name": "stdout",
          "text": [
            "2.18.0\n"
          ]
        }
      ]
    },
    {
      "cell_type": "markdown",
      "source": [
        "# Load Data\n"
      ],
      "metadata": {
        "id": "SXdiADPmNBeX"
      }
    },
    {
      "cell_type": "code",
      "source": [
        "# Load Data\n",
        "mnist = datasets.mnist\n",
        "(x_train , y_train), (x_test , y_test) = mnist.load_data()"
      ],
      "metadata": {
        "id": "VKB_BJQRJXtv"
      },
      "execution_count": 22,
      "outputs": []
    },
    {
      "cell_type": "markdown",
      "source": [
        "# Train set & Test set\n"
      ],
      "metadata": {
        "id": "ucoYRPZxM-Xr"
      }
    },
    {
      "cell_type": "code",
      "source": [
        "# Train set & Test set\n",
        "x_train , x_test = x_train / 255.0 , x_test / 255.0\n",
        "print(\"X_train Shape\",x_train.shape)"
      ],
      "metadata": {
        "id": "amSEV_h6KU1B",
        "outputId": "4ac40022-b693-40dd-e21c-3f04839143ad",
        "colab": {
          "base_uri": "https://localhost:8080/"
        }
      },
      "execution_count": 23,
      "outputs": [
        {
          "output_type": "stream",
          "name": "stdout",
          "text": [
            "X_train Shape (60000, 28, 28)\n"
          ]
        }
      ]
    },
    {
      "cell_type": "markdown",
      "source": [
        "# Build Model\n"
      ],
      "metadata": {
        "id": "cNgMy7p3M7R6"
      }
    },
    {
      "cell_type": "code",
      "source": [
        "# Build Model\n",
        "model = models.Sequential([\n",
        "    layers.Flatten(input_shape=(28,28)),\n",
        "    layers.Dense(128,activation='relu'),\n",
        "    layers.Dropout(0.2),\n",
        "    layers.Dense(10,activation='softmax')\n",
        "\n",
        "])"
      ],
      "metadata": {
        "id": "o-8Yl_ArK6ku",
        "outputId": "2a846c27-ca6c-4e6f-c6c3-91ffc02d4649",
        "colab": {
          "base_uri": "https://localhost:8080/"
        }
      },
      "execution_count": 24,
      "outputs": [
        {
          "output_type": "stream",
          "name": "stderr",
          "text": [
            "/usr/local/lib/python3.11/dist-packages/keras/src/layers/reshaping/flatten.py:37: UserWarning: Do not pass an `input_shape`/`input_dim` argument to a layer. When using Sequential models, prefer using an `Input(shape)` object as the first layer in the model instead.\n",
            "  super().__init__(**kwargs)\n"
          ]
        }
      ]
    },
    {
      "cell_type": "markdown",
      "source": [
        "#Compile The Model"
      ],
      "metadata": {
        "id": "z2cq8RfLMp3u"
      }
    },
    {
      "cell_type": "code",
      "source": [
        "# Compile Model\n",
        "model.compile(optimizer='adam',\n",
        "              loss='sparse_categorical_crossentropy',\n",
        "              metrics=['accuracy'])"
      ],
      "metadata": {
        "id": "xsSX8rrYMdBI"
      },
      "execution_count": 25,
      "outputs": []
    },
    {
      "cell_type": "markdown",
      "source": [
        "# Train the Model"
      ],
      "metadata": {
        "id": "oFMFd1_fN80R"
      }
    },
    {
      "cell_type": "code",
      "source": [
        "# Train the Model\n"
      ],
      "metadata": {
        "id": "BujpMvOUN_lk"
      },
      "execution_count": null,
      "outputs": []
    }
  ],
  "metadata": {
    "colab": {
      "name": "Welcome To Colab",
      "toc_visible": true,
      "provenance": [],
      "include_colab_link": true
    },
    "kernelspec": {
      "display_name": "Python 3",
      "name": "python3"
    }
  },
  "nbformat": 4,
  "nbformat_minor": 0
}