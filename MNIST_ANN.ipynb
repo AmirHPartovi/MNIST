{
  "cells": [
    {
      "cell_type": "markdown",
      "metadata": {
        "id": "view-in-github",
        "colab_type": "text"
      },
      "source": [
        "<a href=\"https://colab.research.google.com/github/AmirHPartovi/MNIST/blob/master/MNIST_ANN.ipynb\" target=\"_parent\"><img src=\"https://colab.research.google.com/assets/colab-badge.svg\" alt=\"Open In Colab\"/></a>"
      ]
    },
    {
      "cell_type": "markdown",
      "source": [
        "#Create Model with ANN for MNIST"
      ],
      "metadata": {
        "id": "0M9IjySmI5yY"
      }
    },
    {
      "cell_type": "markdown",
      "source": [
        "# Import Tensorflow and keras models, layers, dataset"
      ],
      "metadata": {
        "id": "wjTX5nzKNFhE"
      }
    },
    {
      "cell_type": "code",
      "source": [
        "import tensorflow as tf\n",
        "print(tf.__version__)\n",
        "import tensorflow.keras as keras"
      ],
      "metadata": {
        "colab": {
          "base_uri": "https://localhost:8080/"
        },
        "id": "DjGmmNwrJA_g",
        "outputId": "950fad12-0f69-4643-a2b9-306277fbe53d"
      },
      "execution_count": 3,
      "outputs": [
        {
          "output_type": "stream",
          "name": "stdout",
          "text": [
            "2.18.0\n"
          ]
        }
      ]
    },
    {
      "cell_type": "markdown",
      "source": [
        "# Load Data\n"
      ],
      "metadata": {
        "id": "SXdiADPmNBeX"
      }
    },
    {
      "cell_type": "code",
      "source": [
        "# Load Data\n",
        "mnist = keras.datasets.mnist\n",
        "(x_train , y_train), (x_test , y_test) = mnist.load_data()"
      ],
      "metadata": {
        "id": "VKB_BJQRJXtv",
        "colab": {
          "base_uri": "https://localhost:8080/"
        },
        "outputId": "2c982794-b68d-4045-f5aa-1e0d5a3b4926"
      },
      "execution_count": 4,
      "outputs": [
        {
          "output_type": "stream",
          "name": "stdout",
          "text": [
            "Downloading data from https://storage.googleapis.com/tensorflow/tf-keras-datasets/mnist.npz\n",
            "\u001b[1m11490434/11490434\u001b[0m \u001b[32m━━━━━━━━━━━━━━━━━━━━\u001b[0m\u001b[37m\u001b[0m \u001b[1m2s\u001b[0m 0us/step\n"
          ]
        }
      ]
    },
    {
      "cell_type": "markdown",
      "source": [
        "# Train set & Test set\n"
      ],
      "metadata": {
        "id": "ucoYRPZxM-Xr"
      }
    },
    {
      "cell_type": "code",
      "source": [
        "# Train set & Test set\n",
        "x_train , x_test = x_train / 255.0 , x_test / 255.0\n",
        "print(\"X_train Shape\",x_train.shape)"
      ],
      "metadata": {
        "id": "amSEV_h6KU1B",
        "outputId": "dc999ac8-33e6-4432-9468-39e4fc39b345",
        "colab": {
          "base_uri": "https://localhost:8080/"
        }
      },
      "execution_count": 5,
      "outputs": [
        {
          "output_type": "stream",
          "name": "stdout",
          "text": [
            "X_train Shape (60000, 28, 28)\n"
          ]
        }
      ]
    },
    {
      "cell_type": "markdown",
      "source": [
        "# Build Model\n"
      ],
      "metadata": {
        "id": "cNgMy7p3M7R6"
      }
    },
    {
      "cell_type": "code",
      "source": [
        "# Build Model\n",
        "model = keras.models.Sequential([\n",
        "    keras.Input(shape=(28,28)),\n",
        "    keras.layers.Flatten(),\n",
        "    keras.layers.Dense(128,activation='relu'),\n",
        "    keras.layers.Dropout(0.2),\n",
        "    keras.layers.Dense(10,activation='softmax')\n",
        "\n",
        "])"
      ],
      "metadata": {
        "id": "o-8Yl_ArK6ku"
      },
      "execution_count": 6,
      "outputs": []
    },
    {
      "cell_type": "markdown",
      "source": [
        "#Compile The Model"
      ],
      "metadata": {
        "id": "z2cq8RfLMp3u"
      }
    },
    {
      "cell_type": "code",
      "source": [
        "# Compile Model\n",
        "model.compile(optimizer='adam',\n",
        "              loss='sparse_categorical_crossentropy',\n",
        "              metrics=['accuracy'])"
      ],
      "metadata": {
        "id": "xsSX8rrYMdBI"
      },
      "execution_count": 7,
      "outputs": []
    },
    {
      "cell_type": "markdown",
      "source": [
        "# Train the Model"
      ],
      "metadata": {
        "id": "oFMFd1_fN80R"
      }
    },
    {
      "cell_type": "code",
      "source": [
        "# Train the Model\n",
        "fit = model.fit(x_train, y_train,\n",
        "                validation_data=(x_test , y_test),\n",
        "                epochs=10)"
      ],
      "metadata": {
        "id": "BujpMvOUN_lk",
        "colab": {
          "base_uri": "https://localhost:8080/"
        },
        "outputId": "585c0fba-667c-4cea-9ad0-a39e0d3b6f4d"
      },
      "execution_count": 8,
      "outputs": [
        {
          "output_type": "stream",
          "name": "stdout",
          "text": [
            "Epoch 1/10\n",
            "\u001b[1m1875/1875\u001b[0m \u001b[32m━━━━━━━━━━━━━━━━━━━━\u001b[0m\u001b[37m\u001b[0m \u001b[1m8s\u001b[0m 3ms/step - accuracy: 0.8610 - loss: 0.4828 - val_accuracy: 0.9597 - val_loss: 0.1385\n",
            "Epoch 2/10\n",
            "\u001b[1m1875/1875\u001b[0m \u001b[32m━━━━━━━━━━━━━━━━━━━━\u001b[0m\u001b[37m\u001b[0m \u001b[1m8s\u001b[0m 2ms/step - accuracy: 0.9558 - loss: 0.1499 - val_accuracy: 0.9699 - val_loss: 0.0966\n",
            "Epoch 3/10\n",
            "\u001b[1m1875/1875\u001b[0m \u001b[32m━━━━━━━━━━━━━━━━━━━━\u001b[0m\u001b[37m\u001b[0m \u001b[1m6s\u001b[0m 3ms/step - accuracy: 0.9680 - loss: 0.1051 - val_accuracy: 0.9723 - val_loss: 0.0882\n",
            "Epoch 4/10\n",
            "\u001b[1m1875/1875\u001b[0m \u001b[32m━━━━━━━━━━━━━━━━━━━━\u001b[0m\u001b[37m\u001b[0m \u001b[1m5s\u001b[0m 2ms/step - accuracy: 0.9728 - loss: 0.0867 - val_accuracy: 0.9752 - val_loss: 0.0778\n",
            "Epoch 5/10\n",
            "\u001b[1m1875/1875\u001b[0m \u001b[32m━━━━━━━━━━━━━━━━━━━━\u001b[0m\u001b[37m\u001b[0m \u001b[1m5s\u001b[0m 3ms/step - accuracy: 0.9779 - loss: 0.0721 - val_accuracy: 0.9770 - val_loss: 0.0750\n",
            "Epoch 6/10\n",
            "\u001b[1m1875/1875\u001b[0m \u001b[32m━━━━━━━━━━━━━━━━━━━━\u001b[0m\u001b[37m\u001b[0m \u001b[1m5s\u001b[0m 3ms/step - accuracy: 0.9809 - loss: 0.0619 - val_accuracy: 0.9785 - val_loss: 0.0667\n",
            "Epoch 7/10\n",
            "\u001b[1m1875/1875\u001b[0m \u001b[32m━━━━━━━━━━━━━━━━━━━━\u001b[0m\u001b[37m\u001b[0m \u001b[1m5s\u001b[0m 2ms/step - accuracy: 0.9815 - loss: 0.0575 - val_accuracy: 0.9789 - val_loss: 0.0687\n",
            "Epoch 8/10\n",
            "\u001b[1m1875/1875\u001b[0m \u001b[32m━━━━━━━━━━━━━━━━━━━━\u001b[0m\u001b[37m\u001b[0m \u001b[1m5s\u001b[0m 3ms/step - accuracy: 0.9839 - loss: 0.0492 - val_accuracy: 0.9793 - val_loss: 0.0679\n",
            "Epoch 9/10\n",
            "\u001b[1m1875/1875\u001b[0m \u001b[32m━━━━━━━━━━━━━━━━━━━━\u001b[0m\u001b[37m\u001b[0m \u001b[1m10s\u001b[0m 3ms/step - accuracy: 0.9848 - loss: 0.0459 - val_accuracy: 0.9807 - val_loss: 0.0682\n",
            "Epoch 10/10\n",
            "\u001b[1m1875/1875\u001b[0m \u001b[32m━━━━━━━━━━━━━━━━━━━━\u001b[0m\u001b[37m\u001b[0m \u001b[1m10s\u001b[0m 2ms/step - accuracy: 0.9866 - loss: 0.0410 - val_accuracy: 0.9796 - val_loss: 0.0702\n"
          ]
        }
      ]
    },
    {
      "cell_type": "markdown",
      "source": [
        "#Loss Per Iteration"
      ],
      "metadata": {
        "id": "qJCmYvkTRZx9"
      }
    },
    {
      "cell_type": "code",
      "source": [
        "# Plot Los per Iteraton\n",
        "import matplotlib.pyplot as plt\n",
        "plt.plot(fit.history['loss'],label='loss')\n",
        "plt.plot(fit.history['val_loss'],label='val_loss')\n",
        "plt.legend()"
      ],
      "metadata": {
        "id": "iKGdNkETRUVV",
        "outputId": "ebc1e4df-296a-406b-8e15-c09f52d6c985",
        "colab": {
          "base_uri": "https://localhost:8080/",
          "height": 448
        }
      },
      "execution_count": 9,
      "outputs": [
        {
          "output_type": "execute_result",
          "data": {
            "text/plain": [
              "<matplotlib.legend.Legend at 0x7fd40eca7990>"
            ]
          },
          "metadata": {},
          "execution_count": 9
        },
        {
          "output_type": "display_data",
          "data": {
            "text/plain": [
              "<Figure size 640x480 with 1 Axes>"
            ],
            "image/png": "[encoded data removed]"
          },
          "metadata": {}
        }
      ]
    }
  ],
  "metadata": {
    "colab": {
      "name": "Welcome To Colab",
      "toc_visible": true,
      "provenance": [],
      "gpuType": "T4",
      "include_colab_link": true
    },
    "kernelspec": {
      "display_name": "Python 3",
      "name": "python3"
    },
    "accelerator": "GPU"
  },
  "nbformat": 4,
  "nbformat_minor": 0
}